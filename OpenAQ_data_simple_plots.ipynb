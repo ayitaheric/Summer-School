{
 "cells": [
  {
   "cell_type": "markdown",
   "metadata": {
    "id": "r82_EdFSnRkD"
   },
   "source": [
    "Here we have some simple code examples to plot air pollutant concentration data downloaded from the OpenAQ website (using the API).\n",
    "\n",
    "Code was written by Dr Ben Silver, University of Leeds."
   ]
  },
  {
   "cell_type": "markdown",
   "metadata": {
    "id": "4UJoDWAMju6g"
   },
   "source": [
    "Import packages and set directory:"
   ]
  },
  {
   "cell_type": "code",
   "execution_count": 1,
   "metadata": {
    "id": "_CNuIrUujtlw"
   },
   "outputs": [],
   "source": [
    "import pandas as pd\n",
    "from glob import glob\n",
    "import matplotlib.pyplot as plt\n",
    "\n",
    "data_path = './example_data/OpenAQ_Ghana/'"
   ]
  },
  {
   "cell_type": "markdown",
   "metadata": {
    "id": "eWibs4svmAM5"
   },
   "source": [
    "Load OpenAQ PM2.5 data and station metadata:"
   ]
  },
  {
   "cell_type": "code",
   "execution_count": 5,
   "metadata": {
    "id": "fN1-j5x0l2lJ"
   },
   "outputs": [],
   "source": [
    "def load_ghana_data():\n",
    "\n",
    "    fpaths = glob(data_path+'downloaded_data/station_*.csv')\n",
    "\n",
    "    srs = []\n",
    "    for fpath in fpaths:\n",
    "        sr = pd.read_csv(fpath, index_col=0).squeeze()\n",
    "\n",
    "        # skip stations where length is zero\n",
    "        if len(sr) == 0:\n",
    "            continue\n",
    "\n",
    "        # convert index back to datetime\n",
    "        sr.index = pd.to_datetime(sr.index)\n",
    "        # messed this bit up and couldnt be bother to redownload\n",
    "        sr.name = fpath.split('/')[-1][8:-4]\n",
    "        srs.append(sr)\n",
    "\n",
    "    df = pd.concat(srs, axis=1)\n",
    "    df = df.sort_index()\n",
    "    return df\n",
    "\n",
    "\n",
    "df = load_ghana_data()\n",
    "\n",
    "metadata = pd.read_csv(data_path+'Ghana_stations_list.csv',\n",
    "                       index_col='id')"
   ]
  },
  {
   "cell_type": "code",
   "execution_count": 6,
   "metadata": {},
   "outputs": [
    {
     "ename": "NameError",
     "evalue": "name 'sr' is not defined",
     "output_type": "error",
     "traceback": [
      "\u001b[0;31m---------------------------------------------------------------------------\u001b[0m",
      "\u001b[0;31mNameError\u001b[0m                                 Traceback (most recent call last)",
      "Cell \u001b[0;32mIn[6], line 1\u001b[0m\n\u001b[0;32m----> 1\u001b[0m \u001b[43msr\u001b[49m\n",
      "\u001b[0;31mNameError\u001b[0m: name 'sr' is not defined"
     ]
    }
   ],
   "source": [
    "sr"
   ]
  },
  {
   "cell_type": "markdown",
   "metadata": {
    "id": "PMV34RfOmkm9"
   },
   "source": [
    "\"Clean\" data; remove suspicious concentrations:"
   ]
  },
  {
   "cell_type": "code",
   "execution_count": null,
   "metadata": {
    "id": "7wWQBBk2mivh"
   },
   "outputs": [],
   "source": [
    "# -999 seems to be a bad data flag. replace with nan\n",
    "df = df.where(df!=-999)\n",
    "\n",
    "print(f'{((df < 0).sum().sum() / df.size) * 100:.2f}% of the data is negative')\n",
    "# replace with nan\n",
    "df = df.where(df > 0)\n",
    "\n",
    "# two of the stations have means > 1000 ug/m3, remove these\n",
    "df = df.loc[:, df.mean() < 1000]"
   ]
  },
  {
   "cell_type": "markdown",
   "metadata": {
    "id": "jh6Fa_S6mw-5"
   },
   "source": [
    "Plot daily mean of all data:"
   ]
  },
  {
   "cell_type": "code",
   "execution_count": null,
   "metadata": {
    "id": "lOfFJUKIm6Ou"
   },
   "outputs": [],
   "source": [
    "df.resample('D').mean().plot(alpha=.3, color='black',\n",
    "                             legend=None)"
   ]
  },
  {
   "cell_type": "markdown",
   "metadata": {
    "id": "nn8g0s4QnDhp"
   },
   "source": [
    "Plot station data availability:"
   ]
  },
  {
   "cell_type": "code",
   "execution_count": null,
   "metadata": {
    "id": "NYGfN_XinLjr"
   },
   "outputs": [],
   "source": [
    "fig, ax = plt.subplots(figsize=[8,5])\n",
    "pct_avail = (df.notnull().resample('M').sum()  > 100).sum(1) / len(df.columns) * 100\n",
    "pct_avail.plot(ax=ax)\n",
    "ax.set_ylabel('%')\n",
    "ax.set_title('Proportion of stations with over 100 hourly observations in month')"
   ]
  },
  {
   "cell_type": "markdown",
   "metadata": {
    "id": "rBLSFhaNnnA4"
   },
   "source": [
    "Plot monthly mean PM2.5 concentration (seasonal cycle):"
   ]
  },
  {
   "cell_type": "code",
   "execution_count": null,
   "metadata": {
    "id": "jqehgdD7nvMl"
   },
   "outputs": [],
   "source": [
    "fig, ax = plt.subplots(figsize=[8,5])\n",
    "df.groupby(df.index.month).mean().mean(1).plot(ax=ax)\n",
    "ax.set_ylabel('PM$_{2.5}$ concentration µg m$^{-3}$')\n",
    "ax.set_ylim(0)\n",
    "ax.set_xlabel('month')"
   ]
  },
  {
   "cell_type": "markdown",
   "metadata": {
    "id": "fuc8G9udnz9x"
   },
   "source": [
    "Plot hourly mean PM2.5 concentration (diurnal cycle):"
   ]
  },
  {
   "cell_type": "code",
   "execution_count": null,
   "metadata": {
    "id": "Uo_wjgdeoBPz"
   },
   "outputs": [],
   "source": [
    "fig, ax = plt.subplots(figsize=[8,5])\n",
    "df.groupby(df.index.hour).mean().mean(1).plot(ax=ax)\n",
    "ax.set_ylabel('PM$_{2.5}$ concentration µg m^{-3}')\n",
    "ax.set_ylim(0)\n",
    "ax.set_xlabel('hour of day')"
   ]
  }
 ],
 "metadata": {
  "colab": {
   "provenance": []
  },
  "kernelspec": {
   "display_name": "Python 3 (ipykernel)",
   "language": "python",
   "name": "python3"
  },
  "language_info": {
   "codemirror_mode": {
    "name": "ipython",
    "version": 3
   },
   "file_extension": ".py",
   "mimetype": "text/x-python",
   "name": "python",
   "nbconvert_exporter": "python",
   "pygments_lexer": "ipython3",
   "version": "3.9.7"
  }
 },
 "nbformat": 4,
 "nbformat_minor": 1
}
